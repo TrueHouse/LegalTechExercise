# imports required modules
from datetime import datetime, timedelta
CurrentTime = datetime.now()
from dateutil.relativedelta import relativedelta

# defines standard phrases and the Chance integer
Chance = 0
UnexpectedError = 'An unexpected Error occurred'
Error = 'Please retry with a valid input'
no = 'Please continue the questioning process'
noChance = 'Sorry, you\'re application will most likely fail.'
yes = 'Congratulations, we see a chance of success on the basis of this issue. You can follow the further questioning of this tool to find out if there are more reasons to be optimistic!'
uncertain = 'Please contact a lawyer to get a better understanding of your case.'

# Defining class Standard question that initializes with the response to the user depending on their input.
# getAnswer() returns the answer
class StandartQuestion:
	def __init__(self, input):
		self.answer = input
		global Chance
		if self.answer == 'yes':
			self.result = yes
			# if one of the possible reasons for a successfull application is found, it increases the Chance by 1
			Chance += 1
		elif self.answer == 'no':
			self.result = no
		elif self.answer == 'idk':
			self.result = uncertain
		else:
			self.result = Error
		
	def getAnswer(self):
		return self.result

# Checks wether or not there was a procedure according to Art. 33
# Depending on the answer it gets the date of when the award was received.
question_on_second_request = input('After you first received the award. Did you or the other party make a request to correct the interpretation of the award or requested an additional award? (yes/no/idk)')
if question_on_second_request == 'yes':
	question_award_received = input('When did you receive the corrected award? (Example: 16.02.2020)')
elif question_on_second_request == 'no':
	question_award_received = input('When did you receive the award? (Example: 16.02.2020)')
elif question_on_second_request == 'idk':
	print(uncertain)
else:
	print(Error)

# Convertes the input to datetime object and gets current time
date_award = question_award_received.split(".")
print(date_award)
datePutTogether = datetime(int(date_award[2]), int(date_award[1]), int(date_award[0]))
present = datetime.now()

# Calculates the date range for 3 months in the future
three_months = datePutTogether + relativedelta(months=+3)

# Checks if the current date is in this range
# depending on the answer it either returns noChance or proceeds with checking for the requirements of Art. 34
if three_months < present:
	print(noChance)
else:
	# Checkes if the parties did agree on subjecting the arbitration agreement to different law and "returns" boolean
	law = input('Did you subject agreement the arbitration agreement to a different law than the law of this state? (yes/no/idk)')
	if law == 'yes':
		differentLaw = True
	elif law == 'no':
		differentLaw = False
	elif law == 'idk':
		print(uncertain)
	else:
		print(Error)
	
	# This is the standart procedure for standard questions:
	# Creates StandartQuestion class for specific question
	incapacity = input('Can you proof that one of the parties to the arbitration agreement was under some incapacity? (yes/no/idk)')
	incapacityResult = StandartQuestion(incapacity)
	# Calles getAnswer() function
	print(incapacityResult.getAnswer())

	# Checkes the boolean created before and changes the question accordingly
	# Then standard procedure
	if differentLaw == True:
		invalid = input('Can you proof that the arbitration agreement is invalid under the law to which you have subjected it to? (yes/no/idk)')
	elif differentLaw == False:
		invalid = input('Can you proof that the arbitration agreement is invalid under the law of this state? (yes/no/idk)')
	else:
		print(UnexpectedError)
	invalidResult = StandartQuestion(invalid)
	print(invalidResult.getAnswer())
	
	# Standard procedure
	unable = input('Can you proof, that you have been unable to present your case f.e.: Because you were not given proper notice of the arbitral proceedings? (yes/no/idk)')
	unableResult = StandartQuestion(unable)
	print(unableResult.getAnswer())

	# Standard procedure
	compositionAgreement = input('Can you proof, that the Composition of the arbitral tribunal was not in accordance with the agreement of the other party and you? (yes/no/idk)')
	compositionAgreementResult = StandartQuestion(compositionAgreement)
	print(compositionAgreementResult.getAnswer())

	# Standard procedure
	compositionLaw = input('Can you proof that the Composition of the arbitral tribunal in accordance with the law of this State? (yes/no/idk)')
	compositionLawResult = StandartQuestion(compositionLaw)
	print(compositionLawResult.getAnswer())

	# Standard procedure
	nosettle = input('Do you see a possibility that the subject-matter of the dispute is not capable of settlement by arbitration under the law of this State? (yes/no/idk)')
	nosettleResult = StandartQuestion(nosettle)
	print(nosettleResult.getAnswer())

	# Standard procedure
	againstpolicy = input('Do you see a possibility that the award is in conflict with the pubic policy of this state? (yes/no/idk)')
	againstpolicyResult = StandartQuestion(againstpolicy)
	print(againstpolicyResult.getAnswer())

# Prints one final sentence depending on the Chance integer
# Chance adds no real benefit here, but in an actually usable program Chance could be calculated on the basis of an algorithm
if Chance >= 0:
	print('There is a chance of ' + str(Chance) + '/7 that your application will be successfull.')
else:
	print(noChance)
